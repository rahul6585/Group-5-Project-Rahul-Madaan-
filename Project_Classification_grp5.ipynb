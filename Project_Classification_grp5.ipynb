{
 "cells": [
  {
   "cell_type": "code",
   "execution_count": 2,
   "id": "f98b480f",
   "metadata": {},
   "outputs": [],
   "source": [
    "import numpy as np\n",
    "import pandas as pd\n",
    "from matplotlib import pyplot as plt\n",
    "from sklearn.metrics import confusion_matrix\n",
    "from sklearn.neighbors import KNeighborsClassifier\n",
    "from sklearn.model_selection import train_test_split\n",
    "import seaborn as sns"
   ]
  },
  {
   "cell_type": "code",
   "execution_count": 3,
   "id": "c1e643c6",
   "metadata": {},
   "outputs": [],
   "source": [
    "data = pd.read_csv('dataset.csv')"
   ]
  },
  {
   "cell_type": "code",
   "execution_count": null,
   "id": "b26fff9d",
   "metadata": {},
   "outputs": [],
   "source": [
    "#data exploration"
   ]
  },
  {
   "cell_type": "code",
   "execution_count": 4,
   "id": "1e123bae",
   "metadata": {},
   "outputs": [
    {
     "data": {
      "text/plain": [
       "(91713, 85)"
      ]
     },
     "execution_count": 4,
     "metadata": {},
     "output_type": "execute_result"
    }
   ],
   "source": [
    "data.shape"
   ]
  },
  {
   "cell_type": "code",
   "execution_count": 5,
   "id": "306cbdc2",
   "metadata": {},
   "outputs": [
    {
     "data": {
      "text/plain": [
       "7795605"
      ]
     },
     "execution_count": 5,
     "metadata": {},
     "output_type": "execute_result"
    }
   ],
   "source": [
    "data.size"
   ]
  },
  {
   "cell_type": "code",
   "execution_count": 6,
   "id": "69501ea9",
   "metadata": {},
   "outputs": [
    {
     "name": "stdout",
     "output_type": "stream",
     "text": [
      "<class 'pandas.core.frame.DataFrame'>\n",
      "RangeIndex: 91713 entries, 0 to 91712\n",
      "Data columns (total 85 columns):\n",
      " #   Column                         Non-Null Count  Dtype  \n",
      "---  ------                         --------------  -----  \n",
      " 0   encounter_id                   91713 non-null  int64  \n",
      " 1   patient_id                     91713 non-null  int64  \n",
      " 2   hospital_id                    91713 non-null  int64  \n",
      " 3   age                            87485 non-null  float64\n",
      " 4   bmi                            88284 non-null  float64\n",
      " 5   elective_surgery               91713 non-null  int64  \n",
      " 6   ethnicity                      90318 non-null  object \n",
      " 7   gender                         91688 non-null  object \n",
      " 8   height                         90379 non-null  float64\n",
      " 9   icu_admit_source               91601 non-null  object \n",
      " 10  icu_id                         91713 non-null  int64  \n",
      " 11  icu_stay_type                  91713 non-null  object \n",
      " 12  icu_type                       91713 non-null  object \n",
      " 13  pre_icu_los_days               91713 non-null  float64\n",
      " 14  weight                         88993 non-null  float64\n",
      " 15  apache_2_diagnosis             90051 non-null  float64\n",
      " 16  apache_3j_diagnosis            90612 non-null  float64\n",
      " 17  apache_post_operative          91713 non-null  int64  \n",
      " 18  arf_apache                     90998 non-null  float64\n",
      " 19  gcs_eyes_apache                89812 non-null  float64\n",
      " 20  gcs_motor_apache               89812 non-null  float64\n",
      " 21  gcs_unable_apache              90676 non-null  float64\n",
      " 22  gcs_verbal_apache              89812 non-null  float64\n",
      " 23  heart_rate_apache              90835 non-null  float64\n",
      " 24  intubated_apache               90998 non-null  float64\n",
      " 25  map_apache                     90719 non-null  float64\n",
      " 26  resprate_apache                90479 non-null  float64\n",
      " 27  temp_apache                    87605 non-null  float64\n",
      " 28  ventilated_apache              90998 non-null  float64\n",
      " 29  d1_diasbp_max                  91548 non-null  float64\n",
      " 30  d1_diasbp_min                  91548 non-null  float64\n",
      " 31  d1_diasbp_noninvasive_max      90673 non-null  float64\n",
      " 32  d1_diasbp_noninvasive_min      90673 non-null  float64\n",
      " 33  d1_heartrate_max               91568 non-null  float64\n",
      " 34  d1_heartrate_min               91568 non-null  float64\n",
      " 35  d1_mbp_max                     91493 non-null  float64\n",
      " 36  d1_mbp_min                     91493 non-null  float64\n",
      " 37  d1_mbp_noninvasive_max         90234 non-null  float64\n",
      " 38  d1_mbp_noninvasive_min         90234 non-null  float64\n",
      " 39  d1_resprate_max                91328 non-null  float64\n",
      " 40  d1_resprate_min                91328 non-null  float64\n",
      " 41  d1_spo2_max                    91380 non-null  float64\n",
      " 42  d1_spo2_min                    91380 non-null  float64\n",
      " 43  d1_sysbp_max                   91554 non-null  float64\n",
      " 44  d1_sysbp_min                   91554 non-null  float64\n",
      " 45  d1_sysbp_noninvasive_max       90686 non-null  float64\n",
      " 46  d1_sysbp_noninvasive_min       90686 non-null  float64\n",
      " 47  d1_temp_max                    89389 non-null  float64\n",
      " 48  d1_temp_min                    89389 non-null  float64\n",
      " 49  h1_diasbp_max                  88094 non-null  float64\n",
      " 50  h1_diasbp_min                  88094 non-null  float64\n",
      " 51  h1_diasbp_noninvasive_max      84363 non-null  float64\n",
      " 52  h1_diasbp_noninvasive_min      84363 non-null  float64\n",
      " 53  h1_heartrate_max               88923 non-null  float64\n",
      " 54  h1_heartrate_min               88923 non-null  float64\n",
      " 55  h1_mbp_max                     87074 non-null  float64\n",
      " 56  h1_mbp_min                     87074 non-null  float64\n",
      " 57  h1_mbp_noninvasive_max         82629 non-null  float64\n",
      " 58  h1_mbp_noninvasive_min         82629 non-null  float64\n",
      " 59  h1_resprate_max                87356 non-null  float64\n",
      " 60  h1_resprate_min                87356 non-null  float64\n",
      " 61  h1_spo2_max                    87528 non-null  float64\n",
      " 62  h1_spo2_min                    87528 non-null  float64\n",
      " 63  h1_sysbp_max                   88102 non-null  float64\n",
      " 64  h1_sysbp_min                   88102 non-null  float64\n",
      " 65  h1_sysbp_noninvasive_max       84372 non-null  float64\n",
      " 66  h1_sysbp_noninvasive_min       84372 non-null  float64\n",
      " 67  d1_glucose_max                 85906 non-null  float64\n",
      " 68  d1_glucose_min                 85906 non-null  float64\n",
      " 69  d1_potassium_max               82128 non-null  float64\n",
      " 70  d1_potassium_min               82128 non-null  float64\n",
      " 71  apache_4a_hospital_death_prob  83766 non-null  float64\n",
      " 72  apache_4a_icu_death_prob       83766 non-null  float64\n",
      " 73  aids                           90998 non-null  float64\n",
      " 74  cirrhosis                      90998 non-null  float64\n",
      " 75  diabetes_mellitus              90998 non-null  float64\n",
      " 76  hepatic_failure                90998 non-null  float64\n",
      " 77  immunosuppression              90998 non-null  float64\n",
      " 78  leukemia                       90998 non-null  float64\n",
      " 79  lymphoma                       90998 non-null  float64\n",
      " 80  solid_tumor_with_metastasis    90998 non-null  float64\n",
      " 81  apache_3j_bodysystem           90051 non-null  object \n",
      " 82  apache_2_bodysystem            90051 non-null  object \n",
      " 83  Unnamed: 83                    0 non-null      float64\n",
      " 84  hospital_death                 91713 non-null  int64  \n",
      "dtypes: float64(71), int64(7), object(7)\n",
      "memory usage: 59.5+ MB\n"
     ]
    }
   ],
   "source": [
    "data.info()"
   ]
  },
  {
   "cell_type": "code",
   "execution_count": 7,
   "id": "feeef6eb",
   "metadata": {},
   "outputs": [
    {
     "data": {
      "text/plain": [
       "encounter_id                       0\n",
       "patient_id                         0\n",
       "hospital_id                        0\n",
       "age                             4228\n",
       "bmi                             3429\n",
       "                               ...  \n",
       "solid_tumor_with_metastasis      715\n",
       "apache_3j_bodysystem            1662\n",
       "apache_2_bodysystem             1662\n",
       "Unnamed: 83                    91713\n",
       "hospital_death                     0\n",
       "Length: 85, dtype: int64"
      ]
     },
     "execution_count": 7,
     "metadata": {},
     "output_type": "execute_result"
    }
   ],
   "source": [
    "data.isna().sum() #checking for null values"
   ]
  },
  {
   "cell_type": "code",
   "execution_count": 8,
   "id": "4a4ae2d7",
   "metadata": {},
   "outputs": [
    {
     "data": {
      "text/html": [
       "<div>\n",
       "<style scoped>\n",
       "    .dataframe tbody tr th:only-of-type {\n",
       "        vertical-align: middle;\n",
       "    }\n",
       "\n",
       "    .dataframe tbody tr th {\n",
       "        vertical-align: top;\n",
       "    }\n",
       "\n",
       "    .dataframe thead th {\n",
       "        text-align: right;\n",
       "    }\n",
       "</style>\n",
       "<table border=\"1\" class=\"dataframe\">\n",
       "  <thead>\n",
       "    <tr style=\"text-align: right;\">\n",
       "      <th></th>\n",
       "      <th>encounter_id</th>\n",
       "      <th>patient_id</th>\n",
       "      <th>hospital_id</th>\n",
       "      <th>age</th>\n",
       "      <th>bmi</th>\n",
       "      <th>elective_surgery</th>\n",
       "      <th>ethnicity</th>\n",
       "      <th>gender</th>\n",
       "      <th>height</th>\n",
       "      <th>icu_admit_source</th>\n",
       "      <th>...</th>\n",
       "      <th>diabetes_mellitus</th>\n",
       "      <th>hepatic_failure</th>\n",
       "      <th>immunosuppression</th>\n",
       "      <th>leukemia</th>\n",
       "      <th>lymphoma</th>\n",
       "      <th>solid_tumor_with_metastasis</th>\n",
       "      <th>apache_3j_bodysystem</th>\n",
       "      <th>apache_2_bodysystem</th>\n",
       "      <th>Unnamed: 83</th>\n",
       "      <th>hospital_death</th>\n",
       "    </tr>\n",
       "  </thead>\n",
       "  <tbody>\n",
       "    <tr>\n",
       "      <th>0</th>\n",
       "      <td>66154</td>\n",
       "      <td>25312</td>\n",
       "      <td>118</td>\n",
       "      <td>68.0</td>\n",
       "      <td>22.73</td>\n",
       "      <td>0</td>\n",
       "      <td>Caucasian</td>\n",
       "      <td>M</td>\n",
       "      <td>180.3</td>\n",
       "      <td>Floor</td>\n",
       "      <td>...</td>\n",
       "      <td>1.0</td>\n",
       "      <td>0.0</td>\n",
       "      <td>0.0</td>\n",
       "      <td>0.0</td>\n",
       "      <td>0.0</td>\n",
       "      <td>0.0</td>\n",
       "      <td>Sepsis</td>\n",
       "      <td>Cardiovascular</td>\n",
       "      <td>NaN</td>\n",
       "      <td>0</td>\n",
       "    </tr>\n",
       "    <tr>\n",
       "      <th>1</th>\n",
       "      <td>114252</td>\n",
       "      <td>59342</td>\n",
       "      <td>81</td>\n",
       "      <td>77.0</td>\n",
       "      <td>27.42</td>\n",
       "      <td>0</td>\n",
       "      <td>Caucasian</td>\n",
       "      <td>F</td>\n",
       "      <td>160.0</td>\n",
       "      <td>Floor</td>\n",
       "      <td>...</td>\n",
       "      <td>1.0</td>\n",
       "      <td>0.0</td>\n",
       "      <td>0.0</td>\n",
       "      <td>0.0</td>\n",
       "      <td>0.0</td>\n",
       "      <td>0.0</td>\n",
       "      <td>Respiratory</td>\n",
       "      <td>Respiratory</td>\n",
       "      <td>NaN</td>\n",
       "      <td>0</td>\n",
       "    </tr>\n",
       "    <tr>\n",
       "      <th>2</th>\n",
       "      <td>119783</td>\n",
       "      <td>50777</td>\n",
       "      <td>118</td>\n",
       "      <td>25.0</td>\n",
       "      <td>31.95</td>\n",
       "      <td>0</td>\n",
       "      <td>Caucasian</td>\n",
       "      <td>F</td>\n",
       "      <td>172.7</td>\n",
       "      <td>Accident &amp; Emergency</td>\n",
       "      <td>...</td>\n",
       "      <td>0.0</td>\n",
       "      <td>0.0</td>\n",
       "      <td>0.0</td>\n",
       "      <td>0.0</td>\n",
       "      <td>0.0</td>\n",
       "      <td>0.0</td>\n",
       "      <td>Metabolic</td>\n",
       "      <td>Metabolic</td>\n",
       "      <td>NaN</td>\n",
       "      <td>0</td>\n",
       "    </tr>\n",
       "    <tr>\n",
       "      <th>3</th>\n",
       "      <td>79267</td>\n",
       "      <td>46918</td>\n",
       "      <td>118</td>\n",
       "      <td>81.0</td>\n",
       "      <td>22.64</td>\n",
       "      <td>1</td>\n",
       "      <td>Caucasian</td>\n",
       "      <td>F</td>\n",
       "      <td>165.1</td>\n",
       "      <td>Operating Room / Recovery</td>\n",
       "      <td>...</td>\n",
       "      <td>0.0</td>\n",
       "      <td>0.0</td>\n",
       "      <td>0.0</td>\n",
       "      <td>0.0</td>\n",
       "      <td>0.0</td>\n",
       "      <td>0.0</td>\n",
       "      <td>Cardiovascular</td>\n",
       "      <td>Cardiovascular</td>\n",
       "      <td>NaN</td>\n",
       "      <td>0</td>\n",
       "    </tr>\n",
       "    <tr>\n",
       "      <th>4</th>\n",
       "      <td>92056</td>\n",
       "      <td>34377</td>\n",
       "      <td>33</td>\n",
       "      <td>19.0</td>\n",
       "      <td>NaN</td>\n",
       "      <td>0</td>\n",
       "      <td>Caucasian</td>\n",
       "      <td>M</td>\n",
       "      <td>188.0</td>\n",
       "      <td>Accident &amp; Emergency</td>\n",
       "      <td>...</td>\n",
       "      <td>0.0</td>\n",
       "      <td>0.0</td>\n",
       "      <td>0.0</td>\n",
       "      <td>0.0</td>\n",
       "      <td>0.0</td>\n",
       "      <td>0.0</td>\n",
       "      <td>Trauma</td>\n",
       "      <td>Trauma</td>\n",
       "      <td>NaN</td>\n",
       "      <td>0</td>\n",
       "    </tr>\n",
       "  </tbody>\n",
       "</table>\n",
       "<p>5 rows × 85 columns</p>\n",
       "</div>"
      ],
      "text/plain": [
       "   encounter_id  patient_id  hospital_id   age    bmi  elective_surgery  \\\n",
       "0         66154       25312          118  68.0  22.73                 0   \n",
       "1        114252       59342           81  77.0  27.42                 0   \n",
       "2        119783       50777          118  25.0  31.95                 0   \n",
       "3         79267       46918          118  81.0  22.64                 1   \n",
       "4         92056       34377           33  19.0    NaN                 0   \n",
       "\n",
       "   ethnicity gender  height           icu_admit_source  ...  \\\n",
       "0  Caucasian      M   180.3                      Floor  ...   \n",
       "1  Caucasian      F   160.0                      Floor  ...   \n",
       "2  Caucasian      F   172.7       Accident & Emergency  ...   \n",
       "3  Caucasian      F   165.1  Operating Room / Recovery  ...   \n",
       "4  Caucasian      M   188.0       Accident & Emergency  ...   \n",
       "\n",
       "   diabetes_mellitus hepatic_failure immunosuppression  leukemia  lymphoma  \\\n",
       "0                1.0             0.0               0.0       0.0       0.0   \n",
       "1                1.0             0.0               0.0       0.0       0.0   \n",
       "2                0.0             0.0               0.0       0.0       0.0   \n",
       "3                0.0             0.0               0.0       0.0       0.0   \n",
       "4                0.0             0.0               0.0       0.0       0.0   \n",
       "\n",
       "   solid_tumor_with_metastasis  apache_3j_bodysystem  apache_2_bodysystem  \\\n",
       "0                          0.0                Sepsis       Cardiovascular   \n",
       "1                          0.0           Respiratory          Respiratory   \n",
       "2                          0.0             Metabolic            Metabolic   \n",
       "3                          0.0        Cardiovascular       Cardiovascular   \n",
       "4                          0.0                Trauma               Trauma   \n",
       "\n",
       "   Unnamed: 83  hospital_death  \n",
       "0          NaN               0  \n",
       "1          NaN               0  \n",
       "2          NaN               0  \n",
       "3          NaN               0  \n",
       "4          NaN               0  \n",
       "\n",
       "[5 rows x 85 columns]"
      ]
     },
     "execution_count": 8,
     "metadata": {},
     "output_type": "execute_result"
    }
   ],
   "source": [
    "data.head()"
   ]
  },
  {
   "cell_type": "code",
   "execution_count": 9,
   "id": "5a7ee648",
   "metadata": {},
   "outputs": [],
   "source": [
    "data.drop(['Unnamed: 83'], axis = 1, inplace = True) #removing the empty column"
   ]
  },
  {
   "cell_type": "code",
   "execution_count": 10,
   "id": "0b9c003d",
   "metadata": {
    "scrolled": true
   },
   "outputs": [
    {
     "data": {
      "text/html": [
       "<div>\n",
       "<style scoped>\n",
       "    .dataframe tbody tr th:only-of-type {\n",
       "        vertical-align: middle;\n",
       "    }\n",
       "\n",
       "    .dataframe tbody tr th {\n",
       "        vertical-align: top;\n",
       "    }\n",
       "\n",
       "    .dataframe thead th {\n",
       "        text-align: right;\n",
       "    }\n",
       "</style>\n",
       "<table border=\"1\" class=\"dataframe\">\n",
       "  <thead>\n",
       "    <tr style=\"text-align: right;\">\n",
       "      <th></th>\n",
       "      <th>encounter_id</th>\n",
       "      <th>patient_id</th>\n",
       "      <th>hospital_id</th>\n",
       "      <th>age</th>\n",
       "      <th>bmi</th>\n",
       "      <th>elective_surgery</th>\n",
       "      <th>ethnicity</th>\n",
       "      <th>gender</th>\n",
       "      <th>height</th>\n",
       "      <th>icu_admit_source</th>\n",
       "      <th>...</th>\n",
       "      <th>cirrhosis</th>\n",
       "      <th>diabetes_mellitus</th>\n",
       "      <th>hepatic_failure</th>\n",
       "      <th>immunosuppression</th>\n",
       "      <th>leukemia</th>\n",
       "      <th>lymphoma</th>\n",
       "      <th>solid_tumor_with_metastasis</th>\n",
       "      <th>apache_3j_bodysystem</th>\n",
       "      <th>apache_2_bodysystem</th>\n",
       "      <th>hospital_death</th>\n",
       "    </tr>\n",
       "  </thead>\n",
       "  <tbody>\n",
       "    <tr>\n",
       "      <th>0</th>\n",
       "      <td>66154</td>\n",
       "      <td>25312</td>\n",
       "      <td>118</td>\n",
       "      <td>68.0</td>\n",
       "      <td>22.73</td>\n",
       "      <td>0</td>\n",
       "      <td>Caucasian</td>\n",
       "      <td>M</td>\n",
       "      <td>180.3</td>\n",
       "      <td>Floor</td>\n",
       "      <td>...</td>\n",
       "      <td>0.0</td>\n",
       "      <td>1.0</td>\n",
       "      <td>0.0</td>\n",
       "      <td>0.0</td>\n",
       "      <td>0.0</td>\n",
       "      <td>0.0</td>\n",
       "      <td>0.0</td>\n",
       "      <td>Sepsis</td>\n",
       "      <td>Cardiovascular</td>\n",
       "      <td>0</td>\n",
       "    </tr>\n",
       "    <tr>\n",
       "      <th>1</th>\n",
       "      <td>114252</td>\n",
       "      <td>59342</td>\n",
       "      <td>81</td>\n",
       "      <td>77.0</td>\n",
       "      <td>27.42</td>\n",
       "      <td>0</td>\n",
       "      <td>Caucasian</td>\n",
       "      <td>F</td>\n",
       "      <td>160.0</td>\n",
       "      <td>Floor</td>\n",
       "      <td>...</td>\n",
       "      <td>0.0</td>\n",
       "      <td>1.0</td>\n",
       "      <td>0.0</td>\n",
       "      <td>0.0</td>\n",
       "      <td>0.0</td>\n",
       "      <td>0.0</td>\n",
       "      <td>0.0</td>\n",
       "      <td>Respiratory</td>\n",
       "      <td>Respiratory</td>\n",
       "      <td>0</td>\n",
       "    </tr>\n",
       "    <tr>\n",
       "      <th>2</th>\n",
       "      <td>119783</td>\n",
       "      <td>50777</td>\n",
       "      <td>118</td>\n",
       "      <td>25.0</td>\n",
       "      <td>31.95</td>\n",
       "      <td>0</td>\n",
       "      <td>Caucasian</td>\n",
       "      <td>F</td>\n",
       "      <td>172.7</td>\n",
       "      <td>Accident &amp; Emergency</td>\n",
       "      <td>...</td>\n",
       "      <td>0.0</td>\n",
       "      <td>0.0</td>\n",
       "      <td>0.0</td>\n",
       "      <td>0.0</td>\n",
       "      <td>0.0</td>\n",
       "      <td>0.0</td>\n",
       "      <td>0.0</td>\n",
       "      <td>Metabolic</td>\n",
       "      <td>Metabolic</td>\n",
       "      <td>0</td>\n",
       "    </tr>\n",
       "    <tr>\n",
       "      <th>3</th>\n",
       "      <td>79267</td>\n",
       "      <td>46918</td>\n",
       "      <td>118</td>\n",
       "      <td>81.0</td>\n",
       "      <td>22.64</td>\n",
       "      <td>1</td>\n",
       "      <td>Caucasian</td>\n",
       "      <td>F</td>\n",
       "      <td>165.1</td>\n",
       "      <td>Operating Room / Recovery</td>\n",
       "      <td>...</td>\n",
       "      <td>0.0</td>\n",
       "      <td>0.0</td>\n",
       "      <td>0.0</td>\n",
       "      <td>0.0</td>\n",
       "      <td>0.0</td>\n",
       "      <td>0.0</td>\n",
       "      <td>0.0</td>\n",
       "      <td>Cardiovascular</td>\n",
       "      <td>Cardiovascular</td>\n",
       "      <td>0</td>\n",
       "    </tr>\n",
       "    <tr>\n",
       "      <th>4</th>\n",
       "      <td>92056</td>\n",
       "      <td>34377</td>\n",
       "      <td>33</td>\n",
       "      <td>19.0</td>\n",
       "      <td>NaN</td>\n",
       "      <td>0</td>\n",
       "      <td>Caucasian</td>\n",
       "      <td>M</td>\n",
       "      <td>188.0</td>\n",
       "      <td>Accident &amp; Emergency</td>\n",
       "      <td>...</td>\n",
       "      <td>0.0</td>\n",
       "      <td>0.0</td>\n",
       "      <td>0.0</td>\n",
       "      <td>0.0</td>\n",
       "      <td>0.0</td>\n",
       "      <td>0.0</td>\n",
       "      <td>0.0</td>\n",
       "      <td>Trauma</td>\n",
       "      <td>Trauma</td>\n",
       "      <td>0</td>\n",
       "    </tr>\n",
       "  </tbody>\n",
       "</table>\n",
       "<p>5 rows × 84 columns</p>\n",
       "</div>"
      ],
      "text/plain": [
       "   encounter_id  patient_id  hospital_id   age    bmi  elective_surgery  \\\n",
       "0         66154       25312          118  68.0  22.73                 0   \n",
       "1        114252       59342           81  77.0  27.42                 0   \n",
       "2        119783       50777          118  25.0  31.95                 0   \n",
       "3         79267       46918          118  81.0  22.64                 1   \n",
       "4         92056       34377           33  19.0    NaN                 0   \n",
       "\n",
       "   ethnicity gender  height           icu_admit_source  ...  cirrhosis  \\\n",
       "0  Caucasian      M   180.3                      Floor  ...        0.0   \n",
       "1  Caucasian      F   160.0                      Floor  ...        0.0   \n",
       "2  Caucasian      F   172.7       Accident & Emergency  ...        0.0   \n",
       "3  Caucasian      F   165.1  Operating Room / Recovery  ...        0.0   \n",
       "4  Caucasian      M   188.0       Accident & Emergency  ...        0.0   \n",
       "\n",
       "  diabetes_mellitus hepatic_failure  immunosuppression  leukemia  lymphoma  \\\n",
       "0               1.0             0.0                0.0       0.0       0.0   \n",
       "1               1.0             0.0                0.0       0.0       0.0   \n",
       "2               0.0             0.0                0.0       0.0       0.0   \n",
       "3               0.0             0.0                0.0       0.0       0.0   \n",
       "4               0.0             0.0                0.0       0.0       0.0   \n",
       "\n",
       "   solid_tumor_with_metastasis  apache_3j_bodysystem  apache_2_bodysystem  \\\n",
       "0                          0.0                Sepsis       Cardiovascular   \n",
       "1                          0.0           Respiratory          Respiratory   \n",
       "2                          0.0             Metabolic            Metabolic   \n",
       "3                          0.0        Cardiovascular       Cardiovascular   \n",
       "4                          0.0                Trauma               Trauma   \n",
       "\n",
       "   hospital_death  \n",
       "0               0  \n",
       "1               0  \n",
       "2               0  \n",
       "3               0  \n",
       "4               0  \n",
       "\n",
       "[5 rows x 84 columns]"
      ]
     },
     "execution_count": 10,
     "metadata": {},
     "output_type": "execute_result"
    }
   ],
   "source": [
    "data.head()"
   ]
  },
  {
   "cell_type": "code",
   "execution_count": 11,
   "id": "8a253daa",
   "metadata": {},
   "outputs": [],
   "source": [
    "data.dropna(axis=0, inplace = True) #removing rows with null values"
   ]
  },
  {
   "cell_type": "code",
   "execution_count": 12,
   "id": "d0aa88ba",
   "metadata": {},
   "outputs": [
    {
     "data": {
      "text/plain": [
       "encounter_id                   0\n",
       "patient_id                     0\n",
       "hospital_id                    0\n",
       "age                            0\n",
       "bmi                            0\n",
       "                              ..\n",
       "lymphoma                       0\n",
       "solid_tumor_with_metastasis    0\n",
       "apache_3j_bodysystem           0\n",
       "apache_2_bodysystem            0\n",
       "hospital_death                 0\n",
       "Length: 84, dtype: int64"
      ]
     },
     "execution_count": 12,
     "metadata": {},
     "output_type": "execute_result"
    }
   ],
   "source": [
    "data.isna().sum()"
   ]
  },
  {
   "cell_type": "code",
   "execution_count": 13,
   "id": "644db884",
   "metadata": {},
   "outputs": [
    {
     "data": {
      "text/plain": [
       "(56935, 84)"
      ]
     },
     "execution_count": 13,
     "metadata": {},
     "output_type": "execute_result"
    }
   ],
   "source": [
    "data.shape"
   ]
  },
  {
   "cell_type": "code",
   "execution_count": 20,
   "id": "2824b639",
   "metadata": {},
   "outputs": [
    {
     "data": {
      "text/html": [
       "<div>\n",
       "<style scoped>\n",
       "    .dataframe tbody tr th:only-of-type {\n",
       "        vertical-align: middle;\n",
       "    }\n",
       "\n",
       "    .dataframe tbody tr th {\n",
       "        vertical-align: top;\n",
       "    }\n",
       "\n",
       "    .dataframe thead th {\n",
       "        text-align: right;\n",
       "    }\n",
       "</style>\n",
       "<table border=\"1\" class=\"dataframe\">\n",
       "  <thead>\n",
       "    <tr style=\"text-align: right;\">\n",
       "      <th></th>\n",
       "      <th>encounter_id</th>\n",
       "      <th>patient_id</th>\n",
       "      <th>hospital_id</th>\n",
       "      <th>age</th>\n",
       "      <th>bmi</th>\n",
       "      <th>elective_surgery</th>\n",
       "      <th>height</th>\n",
       "      <th>icu_id</th>\n",
       "      <th>pre_icu_los_days</th>\n",
       "      <th>weight</th>\n",
       "      <th>...</th>\n",
       "      <th>apache_4a_icu_death_prob</th>\n",
       "      <th>aids</th>\n",
       "      <th>cirrhosis</th>\n",
       "      <th>diabetes_mellitus</th>\n",
       "      <th>hepatic_failure</th>\n",
       "      <th>immunosuppression</th>\n",
       "      <th>leukemia</th>\n",
       "      <th>lymphoma</th>\n",
       "      <th>solid_tumor_with_metastasis</th>\n",
       "      <th>hospital_death</th>\n",
       "    </tr>\n",
       "  </thead>\n",
       "  <tbody>\n",
       "    <tr>\n",
       "      <th>count</th>\n",
       "      <td>56935.000000</td>\n",
       "      <td>56935.000000</td>\n",
       "      <td>56935.000000</td>\n",
       "      <td>56935.000000</td>\n",
       "      <td>56935.000000</td>\n",
       "      <td>56935.000000</td>\n",
       "      <td>56935.000000</td>\n",
       "      <td>56935.000000</td>\n",
       "      <td>56935.000000</td>\n",
       "      <td>56935.000000</td>\n",
       "      <td>...</td>\n",
       "      <td>56935.000000</td>\n",
       "      <td>56935.000000</td>\n",
       "      <td>56935.000000</td>\n",
       "      <td>56935.000000</td>\n",
       "      <td>56935.000000</td>\n",
       "      <td>56935.000000</td>\n",
       "      <td>56935.000000</td>\n",
       "      <td>56935.000000</td>\n",
       "      <td>56935.000000</td>\n",
       "      <td>56935.000000</td>\n",
       "    </tr>\n",
       "    <tr>\n",
       "      <th>mean</th>\n",
       "      <td>65602.205901</td>\n",
       "      <td>65639.615087</td>\n",
       "      <td>105.792008</td>\n",
       "      <td>62.586142</td>\n",
       "      <td>29.288534</td>\n",
       "      <td>0.160077</td>\n",
       "      <td>169.795598</td>\n",
       "      <td>525.548836</td>\n",
       "      <td>0.825686</td>\n",
       "      <td>84.446776</td>\n",
       "      <td>...</td>\n",
       "      <td>0.062435</td>\n",
       "      <td>0.001019</td>\n",
       "      <td>0.017546</td>\n",
       "      <td>0.235251</td>\n",
       "      <td>0.014859</td>\n",
       "      <td>0.029402</td>\n",
       "      <td>0.007904</td>\n",
       "      <td>0.004250</td>\n",
       "      <td>0.022306</td>\n",
       "      <td>0.085905</td>\n",
       "    </tr>\n",
       "    <tr>\n",
       "      <th>std</th>\n",
       "      <td>37787.119140</td>\n",
       "      <td>37794.344995</td>\n",
       "      <td>64.672676</td>\n",
       "      <td>16.635116</td>\n",
       "      <td>8.320370</td>\n",
       "      <td>0.366681</td>\n",
       "      <td>10.762003</td>\n",
       "      <td>221.824181</td>\n",
       "      <td>2.424678</td>\n",
       "      <td>25.124067</td>\n",
       "      <td>...</td>\n",
       "      <td>0.184256</td>\n",
       "      <td>0.031901</td>\n",
       "      <td>0.131296</td>\n",
       "      <td>0.424159</td>\n",
       "      <td>0.120990</td>\n",
       "      <td>0.168932</td>\n",
       "      <td>0.088552</td>\n",
       "      <td>0.065057</td>\n",
       "      <td>0.147679</td>\n",
       "      <td>0.280226</td>\n",
       "    </tr>\n",
       "    <tr>\n",
       "      <th>min</th>\n",
       "      <td>3.000000</td>\n",
       "      <td>1.000000</td>\n",
       "      <td>2.000000</td>\n",
       "      <td>16.000000</td>\n",
       "      <td>14.844926</td>\n",
       "      <td>0.000000</td>\n",
       "      <td>137.200000</td>\n",
       "      <td>82.000000</td>\n",
       "      <td>-0.244444</td>\n",
       "      <td>38.600000</td>\n",
       "      <td>...</td>\n",
       "      <td>-1.000000</td>\n",
       "      <td>0.000000</td>\n",
       "      <td>0.000000</td>\n",
       "      <td>0.000000</td>\n",
       "      <td>0.000000</td>\n",
       "      <td>0.000000</td>\n",
       "      <td>0.000000</td>\n",
       "      <td>0.000000</td>\n",
       "      <td>0.000000</td>\n",
       "      <td>0.000000</td>\n",
       "    </tr>\n",
       "    <tr>\n",
       "      <th>25%</th>\n",
       "      <td>32810.500000</td>\n",
       "      <td>33041.500000</td>\n",
       "      <td>39.000000</td>\n",
       "      <td>53.000000</td>\n",
       "      <td>23.704715</td>\n",
       "      <td>0.000000</td>\n",
       "      <td>162.600000</td>\n",
       "      <td>384.000000</td>\n",
       "      <td>0.036806</td>\n",
       "      <td>67.100000</td>\n",
       "      <td>...</td>\n",
       "      <td>0.010000</td>\n",
       "      <td>0.000000</td>\n",
       "      <td>0.000000</td>\n",
       "      <td>0.000000</td>\n",
       "      <td>0.000000</td>\n",
       "      <td>0.000000</td>\n",
       "      <td>0.000000</td>\n",
       "      <td>0.000000</td>\n",
       "      <td>0.000000</td>\n",
       "      <td>0.000000</td>\n",
       "    </tr>\n",
       "    <tr>\n",
       "      <th>50%</th>\n",
       "      <td>65786.000000</td>\n",
       "      <td>65595.000000</td>\n",
       "      <td>109.000000</td>\n",
       "      <td>65.000000</td>\n",
       "      <td>27.768126</td>\n",
       "      <td>0.000000</td>\n",
       "      <td>170.100000</td>\n",
       "      <td>513.000000</td>\n",
       "      <td>0.139583</td>\n",
       "      <td>80.800000</td>\n",
       "      <td>...</td>\n",
       "      <td>0.020000</td>\n",
       "      <td>0.000000</td>\n",
       "      <td>0.000000</td>\n",
       "      <td>0.000000</td>\n",
       "      <td>0.000000</td>\n",
       "      <td>0.000000</td>\n",
       "      <td>0.000000</td>\n",
       "      <td>0.000000</td>\n",
       "      <td>0.000000</td>\n",
       "      <td>0.000000</td>\n",
       "    </tr>\n",
       "    <tr>\n",
       "      <th>75%</th>\n",
       "      <td>98229.500000</td>\n",
       "      <td>98296.000000</td>\n",
       "      <td>171.000000</td>\n",
       "      <td>75.000000</td>\n",
       "      <td>33.062057</td>\n",
       "      <td>0.000000</td>\n",
       "      <td>177.800000</td>\n",
       "      <td>685.000000</td>\n",
       "      <td>0.390278</td>\n",
       "      <td>97.500000</td>\n",
       "      <td>...</td>\n",
       "      <td>0.070000</td>\n",
       "      <td>0.000000</td>\n",
       "      <td>0.000000</td>\n",
       "      <td>0.000000</td>\n",
       "      <td>0.000000</td>\n",
       "      <td>0.000000</td>\n",
       "      <td>0.000000</td>\n",
       "      <td>0.000000</td>\n",
       "      <td>0.000000</td>\n",
       "      <td>0.000000</td>\n",
       "    </tr>\n",
       "    <tr>\n",
       "      <th>max</th>\n",
       "      <td>131049.000000</td>\n",
       "      <td>131051.000000</td>\n",
       "      <td>204.000000</td>\n",
       "      <td>89.000000</td>\n",
       "      <td>67.814990</td>\n",
       "      <td>1.000000</td>\n",
       "      <td>195.590000</td>\n",
       "      <td>927.000000</td>\n",
       "      <td>73.022917</td>\n",
       "      <td>186.000000</td>\n",
       "      <td>...</td>\n",
       "      <td>0.970000</td>\n",
       "      <td>1.000000</td>\n",
       "      <td>1.000000</td>\n",
       "      <td>1.000000</td>\n",
       "      <td>1.000000</td>\n",
       "      <td>1.000000</td>\n",
       "      <td>1.000000</td>\n",
       "      <td>1.000000</td>\n",
       "      <td>1.000000</td>\n",
       "      <td>1.000000</td>\n",
       "    </tr>\n",
       "  </tbody>\n",
       "</table>\n",
       "<p>8 rows × 77 columns</p>\n",
       "</div>"
      ],
      "text/plain": [
       "        encounter_id     patient_id   hospital_id           age           bmi  \\\n",
       "count   56935.000000   56935.000000  56935.000000  56935.000000  56935.000000   \n",
       "mean    65602.205901   65639.615087    105.792008     62.586142     29.288534   \n",
       "std     37787.119140   37794.344995     64.672676     16.635116      8.320370   \n",
       "min         3.000000       1.000000      2.000000     16.000000     14.844926   \n",
       "25%     32810.500000   33041.500000     39.000000     53.000000     23.704715   \n",
       "50%     65786.000000   65595.000000    109.000000     65.000000     27.768126   \n",
       "75%     98229.500000   98296.000000    171.000000     75.000000     33.062057   \n",
       "max    131049.000000  131051.000000    204.000000     89.000000     67.814990   \n",
       "\n",
       "       elective_surgery        height        icu_id  pre_icu_los_days  \\\n",
       "count      56935.000000  56935.000000  56935.000000      56935.000000   \n",
       "mean           0.160077    169.795598    525.548836          0.825686   \n",
       "std            0.366681     10.762003    221.824181          2.424678   \n",
       "min            0.000000    137.200000     82.000000         -0.244444   \n",
       "25%            0.000000    162.600000    384.000000          0.036806   \n",
       "50%            0.000000    170.100000    513.000000          0.139583   \n",
       "75%            0.000000    177.800000    685.000000          0.390278   \n",
       "max            1.000000    195.590000    927.000000         73.022917   \n",
       "\n",
       "             weight  ...  apache_4a_icu_death_prob          aids  \\\n",
       "count  56935.000000  ...              56935.000000  56935.000000   \n",
       "mean      84.446776  ...                  0.062435      0.001019   \n",
       "std       25.124067  ...                  0.184256      0.031901   \n",
       "min       38.600000  ...                 -1.000000      0.000000   \n",
       "25%       67.100000  ...                  0.010000      0.000000   \n",
       "50%       80.800000  ...                  0.020000      0.000000   \n",
       "75%       97.500000  ...                  0.070000      0.000000   \n",
       "max      186.000000  ...                  0.970000      1.000000   \n",
       "\n",
       "          cirrhosis  diabetes_mellitus  hepatic_failure  immunosuppression  \\\n",
       "count  56935.000000       56935.000000     56935.000000       56935.000000   \n",
       "mean       0.017546           0.235251         0.014859           0.029402   \n",
       "std        0.131296           0.424159         0.120990           0.168932   \n",
       "min        0.000000           0.000000         0.000000           0.000000   \n",
       "25%        0.000000           0.000000         0.000000           0.000000   \n",
       "50%        0.000000           0.000000         0.000000           0.000000   \n",
       "75%        0.000000           0.000000         0.000000           0.000000   \n",
       "max        1.000000           1.000000         1.000000           1.000000   \n",
       "\n",
       "           leukemia      lymphoma  solid_tumor_with_metastasis  hospital_death  \n",
       "count  56935.000000  56935.000000                 56935.000000    56935.000000  \n",
       "mean       0.007904      0.004250                     0.022306        0.085905  \n",
       "std        0.088552      0.065057                     0.147679        0.280226  \n",
       "min        0.000000      0.000000                     0.000000        0.000000  \n",
       "25%        0.000000      0.000000                     0.000000        0.000000  \n",
       "50%        0.000000      0.000000                     0.000000        0.000000  \n",
       "75%        0.000000      0.000000                     0.000000        0.000000  \n",
       "max        1.000000      1.000000                     1.000000        1.000000  \n",
       "\n",
       "[8 rows x 77 columns]"
      ]
     },
     "execution_count": 20,
     "metadata": {},
     "output_type": "execute_result"
    }
   ],
   "source": [
    "data.describe()"
   ]
  },
  {
   "cell_type": "code",
   "execution_count": 14,
   "id": "b4cbfdb3",
   "metadata": {},
   "outputs": [
    {
     "data": {
      "text/plain": [
       "gender\n",
       "F    25971\n",
       "M    30964\n",
       "dtype: int64"
      ]
     },
     "execution_count": 14,
     "metadata": {},
     "output_type": "execute_result"
    }
   ],
   "source": [
    "data.groupby(by =['gender']).size()"
   ]
  },
  {
   "cell_type": "code",
   "execution_count": null,
   "id": "01bc6e04",
   "metadata": {},
   "outputs": [],
   "source": [
    "#Data Visualization"
   ]
  },
  {
   "cell_type": "code",
   "execution_count": 15,
   "id": "aec15103",
   "metadata": {},
   "outputs": [
    {
     "data": {
      "image/png": "[encoded data removed]",
      "text/plain": [
       "<Figure size 432x288 with 1 Axes>"
      ]
     },
     "metadata": {
      "needs_background": "light"
     },
     "output_type": "display_data"
    }
   ],
   "source": [
    "labels = [\"Female\", \"Male\"]\n",
    "# depicting the visualization \n",
    "fig = plt.figure() \n",
    "ax = fig.add_axes([0,0,1,1]) \n",
    "\n",
    "ax.pie(data['gender'].value_counts(), \n",
    "       labels = labels,\n",
    "       autopct ='%1.2f%%',\n",
    "       frame = True,\n",
    "       textprops = dict(color =\"black\", size=12)) \n",
    "\n",
    "ax.axis('equal') \n",
    "plt.show()"
   ]
  },
  {
   "cell_type": "code",
   "execution_count": 16,
   "id": "a5c79501",
   "metadata": {
    "scrolled": true
   },
   "outputs": [
    {
     "name": "stderr",
     "output_type": "stream",
     "text": [
      "C:\\Users\\lenovo\\anaconda3\\lib\\site-packages\\seaborn\\_decorators.py:36: FutureWarning: Pass the following variable as a keyword arg: x. From version 0.12, the only valid positional argument will be `data`, and passing other arguments without an explicit keyword will result in an error or misinterpretation.\n",
      "  warnings.warn(\n"
     ]
    },
    {
     "data": {
      "image/png": "[encoded data removed]",
      "text/plain": [
       "<Figure size 720x360 with 1 Axes>"
      ]
     },
     "metadata": {
      "needs_background": "light"
     },
     "output_type": "display_data"
    }
   ],
   "source": [
    "plt.figure(figsize=(10,5))\n",
    "sns.countplot('ethnicity',data=data)\n",
    "plt.xticks(rotation=45,horizontalalignment='right')\n",
    "plt.show()"
   ]
  },
  {
   "cell_type": "code",
   "execution_count": 17,
   "id": "d8adaa0c",
   "metadata": {},
   "outputs": [
    {
     "name": "stderr",
     "output_type": "stream",
     "text": [
      "C:\\Users\\lenovo\\anaconda3\\lib\\site-packages\\seaborn\\_decorators.py:36: FutureWarning: Pass the following variable as a keyword arg: x. From version 0.12, the only valid positional argument will be `data`, and passing other arguments without an explicit keyword will result in an error or misinterpretation.\n",
      "  warnings.warn(\n"
     ]
    },
    {
     "data": {
      "image/png": "[encoded data removed]",
      "text/plain": [
       "<Figure size 720x360 with 1 Axes>"
      ]
     },
     "metadata": {
      "needs_background": "light"
     },
     "output_type": "display_data"
    }
   ],
   "source": [
    "plt.figure(figsize=(10,5))\n",
    "sns.countplot('icu_admit_source',data=data)\n",
    "plt.xticks(rotation=45,horizontalalignment='right')\n",
    "plt.show()"
   ]
  },
  {
   "cell_type": "code",
   "execution_count": 18,
   "id": "4b5c4351",
   "metadata": {
    "scrolled": true
   },
   "outputs": [
    {
     "name": "stderr",
     "output_type": "stream",
     "text": [
      "C:\\Users\\lenovo\\anaconda3\\lib\\site-packages\\seaborn\\_decorators.py:36: FutureWarning: Pass the following variable as a keyword arg: x. From version 0.12, the only valid positional argument will be `data`, and passing other arguments without an explicit keyword will result in an error or misinterpretation.\n",
      "  warnings.warn(\n"
     ]
    },
    {
     "data": {
      "image/png": "[encoded data removed]",
      "text/plain": [
       "<Figure size 720x360 with 1 Axes>"
      ]
     },
     "metadata": {
      "needs_background": "light"
     },
     "output_type": "display_data"
    }
   ],
   "source": [
    "plt.figure(figsize=(10,5))\n",
    "sns.countplot('apache_3j_bodysystem',data=data)\n",
    "plt.xticks(rotation=45,horizontalalignment='right')\n",
    "plt.show()"
   ]
  },
  {
   "cell_type": "code",
   "execution_count": 19,
   "id": "9556dcb7",
   "metadata": {},
   "outputs": [
    {
     "name": "stderr",
     "output_type": "stream",
     "text": [
      "C:\\Users\\lenovo\\anaconda3\\lib\\site-packages\\seaborn\\_decorators.py:36: FutureWarning: Pass the following variable as a keyword arg: x. From version 0.12, the only valid positional argument will be `data`, and passing other arguments without an explicit keyword will result in an error or misinterpretation.\n",
      "  warnings.warn(\n"
     ]
    },
    {
     "data": {
      "image/png": "[encoded data removed]",
      "text/plain": [
       "<Figure size 720x360 with 1 Axes>"
      ]
     },
     "metadata": {
      "needs_background": "light"
     },
     "output_type": "display_data"
    }
   ],
   "source": [
    "plt.figure(figsize=(10,5))\n",
    "sns.countplot('apache_2_bodysystem',data=data)\n",
    "plt.xticks(rotation=45,horizontalalignment='right')\n",
    "plt.show()"
   ]
  },
  {
   "cell_type": "code",
   "execution_count": 16,
   "id": "11ebb0e9",
   "metadata": {
    "scrolled": true
   },
   "outputs": [
    {
     "data": {
      "text/plain": [
       "(array([ 1381.,  1857.,  2211.,  3361.,  5241.,  7800., 10325.,  9343.,\n",
       "         8292.,  7124.]),\n",
       " array([16. , 23.3, 30.6, 37.9, 45.2, 52.5, 59.8, 67.1, 74.4, 81.7, 89. ]),\n",
       " <BarContainer object of 10 artists>)"
      ]
     },
     "execution_count": 16,
     "metadata": {},
     "output_type": "execute_result"
    },
    {
     "data": {
      "image/png": "[encoded data removed]",
      "text/plain": [
       "<Figure size 432x288 with 1 Axes>"
      ]
     },
     "metadata": {
      "needs_background": "light"
     },
     "output_type": "display_data"
    }
   ],
   "source": [
    "plt.title(\"Distribution of age\")\n",
    "plt.hist(data.age)"
   ]
  },
  {
   "cell_type": "code",
   "execution_count": 29,
   "id": "80f14872",
   "metadata": {
    "scrolled": true
   },
   "outputs": [
    {
     "data": {
      "text/plain": [
       "(array([ 4835., 15434., 17074., 10224.,  4877.,  2233.,  1036.,   515.,\n",
       "          286.,   421.]),\n",
       " array([14.84492591, 20.14193229, 25.43893867, 30.73594506, 36.03295144,\n",
       "        41.32995782, 46.6269642 , 51.92397058, 57.22097697, 62.51798335,\n",
       "        67.81498973]),\n",
       " <BarContainer object of 10 artists>)"
      ]
     },
     "execution_count": 29,
     "metadata": {},
     "output_type": "execute_result"
    },
    {
     "data": {
      "image/png": "[encoded data removed]",
      "text/plain": [
       "<Figure size 432x288 with 1 Axes>"
      ]
     },
     "metadata": {
      "needs_background": "light"
     },
     "output_type": "display_data"
    }
   ],
   "source": [
    "plt.title(\"Distribution of bmi\")\n",
    "plt.hist(data.bmi)"
   ]
  },
  {
   "cell_type": "code",
   "execution_count": 30,
   "id": "afcb58bd",
   "metadata": {},
   "outputs": [
    {
     "data": {
      "text/plain": [
       "(array([  450.,   516.,  3089.,  8897.,  8835., 10104., 12700.,  7455.,\n",
       "         3352.,  1537.]),\n",
       " array([137.2  , 143.039, 148.878, 154.717, 160.556, 166.395, 172.234,\n",
       "        178.073, 183.912, 189.751, 195.59 ]),\n",
       " <BarContainer object of 10 artists>)"
      ]
     },
     "execution_count": 30,
     "metadata": {},
     "output_type": "execute_result"
    },
    {
     "data": {
      "image/png": "[encoded data removed]",
      "text/plain": [
       "<Figure size 432x288 with 1 Axes>"
      ]
     },
     "metadata": {
      "needs_background": "light"
     },
     "output_type": "display_data"
    }
   ],
   "source": [
    "plt.title(\"Distribution of height\")\n",
    "plt.hist(data.height)"
   ]
  },
  {
   "cell_type": "code",
   "execution_count": 17,
   "id": "b04cd194",
   "metadata": {},
   "outputs": [],
   "source": [
    "from sklearn.preprocessing import LabelEncoder\n",
    "le = LabelEncoder()"
   ]
  },
  {
   "cell_type": "code",
   "execution_count": 18,
   "id": "89c794a7",
   "metadata": {},
   "outputs": [],
   "source": [
    "data['ethnicity'] = le.fit_transform(data['ethnicity'])\n",
    "data['gender'] = le.fit_transform(data['gender'])\n",
    "data['icu_admit_source'] = le.fit_transform(data['icu_admit_source'])\n",
    "data['icu_stay_type'] = le.fit_transform(data['icu_stay_type'])\n",
    "data['icu_type'] = le.fit_transform(data['icu_type'])\n",
    "data['apache_3j_bodysystem'] = le.fit_transform(data['apache_3j_bodysystem'])\n",
    "data['apache_2_bodysystem'] = le.fit_transform(data['apache_2_bodysystem'])\n",
    "#encoding of the non numerical variables"
   ]
  },
  {
   "cell_type": "code",
   "execution_count": 19,
   "id": "45a58482",
   "metadata": {},
   "outputs": [
    {
     "data": {
      "text/html": [
       "<div>\n",
       "<style scoped>\n",
       "    .dataframe tbody tr th:only-of-type {\n",
       "        vertical-align: middle;\n",
       "    }\n",
       "\n",
       "    .dataframe tbody tr th {\n",
       "        vertical-align: top;\n",
       "    }\n",
       "\n",
       "    .dataframe thead th {\n",
       "        text-align: right;\n",
       "    }\n",
       "</style>\n",
       "<table border=\"1\" class=\"dataframe\">\n",
       "  <thead>\n",
       "    <tr style=\"text-align: right;\">\n",
       "      <th></th>\n",
       "      <th>encounter_id</th>\n",
       "      <th>patient_id</th>\n",
       "      <th>hospital_id</th>\n",
       "      <th>age</th>\n",
       "      <th>bmi</th>\n",
       "      <th>elective_surgery</th>\n",
       "      <th>ethnicity</th>\n",
       "      <th>gender</th>\n",
       "      <th>height</th>\n",
       "      <th>icu_admit_source</th>\n",
       "      <th>...</th>\n",
       "      <th>cirrhosis</th>\n",
       "      <th>diabetes_mellitus</th>\n",
       "      <th>hepatic_failure</th>\n",
       "      <th>immunosuppression</th>\n",
       "      <th>leukemia</th>\n",
       "      <th>lymphoma</th>\n",
       "      <th>solid_tumor_with_metastasis</th>\n",
       "      <th>apache_3j_bodysystem</th>\n",
       "      <th>apache_2_bodysystem</th>\n",
       "      <th>hospital_death</th>\n",
       "    </tr>\n",
       "  </thead>\n",
       "  <tbody>\n",
       "    <tr>\n",
       "      <th>0</th>\n",
       "      <td>66154</td>\n",
       "      <td>25312</td>\n",
       "      <td>118</td>\n",
       "      <td>68.0</td>\n",
       "      <td>22.730000</td>\n",
       "      <td>0</td>\n",
       "      <td>2</td>\n",
       "      <td>1</td>\n",
       "      <td>180.3</td>\n",
       "      <td>1</td>\n",
       "      <td>...</td>\n",
       "      <td>0.0</td>\n",
       "      <td>1.0</td>\n",
       "      <td>0.0</td>\n",
       "      <td>0.0</td>\n",
       "      <td>0.0</td>\n",
       "      <td>0.0</td>\n",
       "      <td>0.0</td>\n",
       "      <td>9</td>\n",
       "      <td>0</td>\n",
       "      <td>0</td>\n",
       "    </tr>\n",
       "    <tr>\n",
       "      <th>1</th>\n",
       "      <td>114252</td>\n",
       "      <td>59342</td>\n",
       "      <td>81</td>\n",
       "      <td>77.0</td>\n",
       "      <td>27.420000</td>\n",
       "      <td>0</td>\n",
       "      <td>2</td>\n",
       "      <td>0</td>\n",
       "      <td>160.0</td>\n",
       "      <td>1</td>\n",
       "      <td>...</td>\n",
       "      <td>0.0</td>\n",
       "      <td>1.0</td>\n",
       "      <td>0.0</td>\n",
       "      <td>0.0</td>\n",
       "      <td>0.0</td>\n",
       "      <td>0.0</td>\n",
       "      <td>0.0</td>\n",
       "      <td>8</td>\n",
       "      <td>6</td>\n",
       "      <td>0</td>\n",
       "    </tr>\n",
       "    <tr>\n",
       "      <th>5</th>\n",
       "      <td>33181</td>\n",
       "      <td>74489</td>\n",
       "      <td>83</td>\n",
       "      <td>67.0</td>\n",
       "      <td>27.560000</td>\n",
       "      <td>0</td>\n",
       "      <td>2</td>\n",
       "      <td>1</td>\n",
       "      <td>190.5</td>\n",
       "      <td>0</td>\n",
       "      <td>...</td>\n",
       "      <td>0.0</td>\n",
       "      <td>1.0</td>\n",
       "      <td>0.0</td>\n",
       "      <td>0.0</td>\n",
       "      <td>0.0</td>\n",
       "      <td>0.0</td>\n",
       "      <td>0.0</td>\n",
       "      <td>7</td>\n",
       "      <td>4</td>\n",
       "      <td>0</td>\n",
       "    </tr>\n",
       "    <tr>\n",
       "      <th>10</th>\n",
       "      <td>105427</td>\n",
       "      <td>125898</td>\n",
       "      <td>77</td>\n",
       "      <td>72.0</td>\n",
       "      <td>28.257052</td>\n",
       "      <td>1</td>\n",
       "      <td>3</td>\n",
       "      <td>0</td>\n",
       "      <td>154.9</td>\n",
       "      <td>2</td>\n",
       "      <td>...</td>\n",
       "      <td>0.0</td>\n",
       "      <td>0.0</td>\n",
       "      <td>0.0</td>\n",
       "      <td>1.0</td>\n",
       "      <td>0.0</td>\n",
       "      <td>0.0</td>\n",
       "      <td>0.0</td>\n",
       "      <td>8</td>\n",
       "      <td>6</td>\n",
       "      <td>0</td>\n",
       "    </tr>\n",
       "    <tr>\n",
       "      <th>17</th>\n",
       "      <td>22471</td>\n",
       "      <td>112115</td>\n",
       "      <td>118</td>\n",
       "      <td>46.0</td>\n",
       "      <td>25.845717</td>\n",
       "      <td>0</td>\n",
       "      <td>3</td>\n",
       "      <td>1</td>\n",
       "      <td>167.6</td>\n",
       "      <td>0</td>\n",
       "      <td>...</td>\n",
       "      <td>0.0</td>\n",
       "      <td>0.0</td>\n",
       "      <td>0.0</td>\n",
       "      <td>0.0</td>\n",
       "      <td>0.0</td>\n",
       "      <td>0.0</td>\n",
       "      <td>0.0</td>\n",
       "      <td>8</td>\n",
       "      <td>6</td>\n",
       "      <td>0</td>\n",
       "    </tr>\n",
       "  </tbody>\n",
       "</table>\n",
       "<p>5 rows × 84 columns</p>\n",
       "</div>"
      ],
      "text/plain": [
       "    encounter_id  patient_id  hospital_id   age        bmi  elective_surgery  \\\n",
       "0          66154       25312          118  68.0  22.730000                 0   \n",
       "1         114252       59342           81  77.0  27.420000                 0   \n",
       "5          33181       74489           83  67.0  27.560000                 0   \n",
       "10        105427      125898           77  72.0  28.257052                 1   \n",
       "17         22471      112115          118  46.0  25.845717                 0   \n",
       "\n",
       "    ethnicity  gender  height  icu_admit_source  ...  cirrhosis  \\\n",
       "0           2       1   180.3                 1  ...        0.0   \n",
       "1           2       0   160.0                 1  ...        0.0   \n",
       "5           2       1   190.5                 0  ...        0.0   \n",
       "10          3       0   154.9                 2  ...        0.0   \n",
       "17          3       1   167.6                 0  ...        0.0   \n",
       "\n",
       "    diabetes_mellitus  hepatic_failure  immunosuppression  leukemia  lymphoma  \\\n",
       "0                 1.0              0.0                0.0       0.0       0.0   \n",
       "1                 1.0              0.0                0.0       0.0       0.0   \n",
       "5                 1.0              0.0                0.0       0.0       0.0   \n",
       "10                0.0              0.0                1.0       0.0       0.0   \n",
       "17                0.0              0.0                0.0       0.0       0.0   \n",
       "\n",
       "    solid_tumor_with_metastasis  apache_3j_bodysystem  apache_2_bodysystem  \\\n",
       "0                           0.0                     9                    0   \n",
       "1                           0.0                     8                    6   \n",
       "5                           0.0                     7                    4   \n",
       "10                          0.0                     8                    6   \n",
       "17                          0.0                     8                    6   \n",
       "\n",
       "    hospital_death  \n",
       "0                0  \n",
       "1                0  \n",
       "5                0  \n",
       "10               0  \n",
       "17               0  \n",
       "\n",
       "[5 rows x 84 columns]"
      ]
     },
     "execution_count": 19,
     "metadata": {},
     "output_type": "execute_result"
    }
   ],
   "source": [
    "data.head()"
   ]
  },
  {
   "cell_type": "code",
   "execution_count": 20,
   "id": "077ea01d",
   "metadata": {},
   "outputs": [],
   "source": [
    "x = data.iloc[:,0:83]\n",
    "y = data.iloc[:,83] #target variable"
   ]
  },
  {
   "cell_type": "code",
   "execution_count": 21,
   "id": "8e4ee2e9",
   "metadata": {},
   "outputs": [
    {
     "data": {
      "text/html": [
       "<div>\n",
       "<style scoped>\n",
       "    .dataframe tbody tr th:only-of-type {\n",
       "        vertical-align: middle;\n",
       "    }\n",
       "\n",
       "    .dataframe tbody tr th {\n",
       "        vertical-align: top;\n",
       "    }\n",
       "\n",
       "    .dataframe thead th {\n",
       "        text-align: right;\n",
       "    }\n",
       "</style>\n",
       "<table border=\"1\" class=\"dataframe\">\n",
       "  <thead>\n",
       "    <tr style=\"text-align: right;\">\n",
       "      <th></th>\n",
       "      <th>encounter_id</th>\n",
       "      <th>patient_id</th>\n",
       "      <th>hospital_id</th>\n",
       "      <th>age</th>\n",
       "      <th>bmi</th>\n",
       "      <th>elective_surgery</th>\n",
       "      <th>ethnicity</th>\n",
       "      <th>gender</th>\n",
       "      <th>height</th>\n",
       "      <th>icu_admit_source</th>\n",
       "      <th>...</th>\n",
       "      <th>aids</th>\n",
       "      <th>cirrhosis</th>\n",
       "      <th>diabetes_mellitus</th>\n",
       "      <th>hepatic_failure</th>\n",
       "      <th>immunosuppression</th>\n",
       "      <th>leukemia</th>\n",
       "      <th>lymphoma</th>\n",
       "      <th>solid_tumor_with_metastasis</th>\n",
       "      <th>apache_3j_bodysystem</th>\n",
       "      <th>apache_2_bodysystem</th>\n",
       "    </tr>\n",
       "  </thead>\n",
       "  <tbody>\n",
       "    <tr>\n",
       "      <th>0</th>\n",
       "      <td>66154</td>\n",
       "      <td>25312</td>\n",
       "      <td>118</td>\n",
       "      <td>68.0</td>\n",
       "      <td>22.730000</td>\n",
       "      <td>0</td>\n",
       "      <td>2</td>\n",
       "      <td>1</td>\n",
       "      <td>180.3</td>\n",
       "      <td>1</td>\n",
       "      <td>...</td>\n",
       "      <td>0.0</td>\n",
       "      <td>0.0</td>\n",
       "      <td>1.0</td>\n",
       "      <td>0.0</td>\n",
       "      <td>0.0</td>\n",
       "      <td>0.0</td>\n",
       "      <td>0.0</td>\n",
       "      <td>0.0</td>\n",
       "      <td>9</td>\n",
       "      <td>0</td>\n",
       "    </tr>\n",
       "    <tr>\n",
       "      <th>1</th>\n",
       "      <td>114252</td>\n",
       "      <td>59342</td>\n",
       "      <td>81</td>\n",
       "      <td>77.0</td>\n",
       "      <td>27.420000</td>\n",
       "      <td>0</td>\n",
       "      <td>2</td>\n",
       "      <td>0</td>\n",
       "      <td>160.0</td>\n",
       "      <td>1</td>\n",
       "      <td>...</td>\n",
       "      <td>0.0</td>\n",
       "      <td>0.0</td>\n",
       "      <td>1.0</td>\n",
       "      <td>0.0</td>\n",
       "      <td>0.0</td>\n",
       "      <td>0.0</td>\n",
       "      <td>0.0</td>\n",
       "      <td>0.0</td>\n",
       "      <td>8</td>\n",
       "      <td>6</td>\n",
       "    </tr>\n",
       "    <tr>\n",
       "      <th>5</th>\n",
       "      <td>33181</td>\n",
       "      <td>74489</td>\n",
       "      <td>83</td>\n",
       "      <td>67.0</td>\n",
       "      <td>27.560000</td>\n",
       "      <td>0</td>\n",
       "      <td>2</td>\n",
       "      <td>1</td>\n",
       "      <td>190.5</td>\n",
       "      <td>0</td>\n",
       "      <td>...</td>\n",
       "      <td>0.0</td>\n",
       "      <td>0.0</td>\n",
       "      <td>1.0</td>\n",
       "      <td>0.0</td>\n",
       "      <td>0.0</td>\n",
       "      <td>0.0</td>\n",
       "      <td>0.0</td>\n",
       "      <td>0.0</td>\n",
       "      <td>7</td>\n",
       "      <td>4</td>\n",
       "    </tr>\n",
       "    <tr>\n",
       "      <th>10</th>\n",
       "      <td>105427</td>\n",
       "      <td>125898</td>\n",
       "      <td>77</td>\n",
       "      <td>72.0</td>\n",
       "      <td>28.257052</td>\n",
       "      <td>1</td>\n",
       "      <td>3</td>\n",
       "      <td>0</td>\n",
       "      <td>154.9</td>\n",
       "      <td>2</td>\n",
       "      <td>...</td>\n",
       "      <td>0.0</td>\n",
       "      <td>0.0</td>\n",
       "      <td>0.0</td>\n",
       "      <td>0.0</td>\n",
       "      <td>1.0</td>\n",
       "      <td>0.0</td>\n",
       "      <td>0.0</td>\n",
       "      <td>0.0</td>\n",
       "      <td>8</td>\n",
       "      <td>6</td>\n",
       "    </tr>\n",
       "    <tr>\n",
       "      <th>17</th>\n",
       "      <td>22471</td>\n",
       "      <td>112115</td>\n",
       "      <td>118</td>\n",
       "      <td>46.0</td>\n",
       "      <td>25.845717</td>\n",
       "      <td>0</td>\n",
       "      <td>3</td>\n",
       "      <td>1</td>\n",
       "      <td>167.6</td>\n",
       "      <td>0</td>\n",
       "      <td>...</td>\n",
       "      <td>0.0</td>\n",
       "      <td>0.0</td>\n",
       "      <td>0.0</td>\n",
       "      <td>0.0</td>\n",
       "      <td>0.0</td>\n",
       "      <td>0.0</td>\n",
       "      <td>0.0</td>\n",
       "      <td>0.0</td>\n",
       "      <td>8</td>\n",
       "      <td>6</td>\n",
       "    </tr>\n",
       "  </tbody>\n",
       "</table>\n",
       "<p>5 rows × 83 columns</p>\n",
       "</div>"
      ],
      "text/plain": [
       "    encounter_id  patient_id  hospital_id   age        bmi  elective_surgery  \\\n",
       "0          66154       25312          118  68.0  22.730000                 0   \n",
       "1         114252       59342           81  77.0  27.420000                 0   \n",
       "5          33181       74489           83  67.0  27.560000                 0   \n",
       "10        105427      125898           77  72.0  28.257052                 1   \n",
       "17         22471      112115          118  46.0  25.845717                 0   \n",
       "\n",
       "    ethnicity  gender  height  icu_admit_source  ...  aids  cirrhosis  \\\n",
       "0           2       1   180.3                 1  ...   0.0        0.0   \n",
       "1           2       0   160.0                 1  ...   0.0        0.0   \n",
       "5           2       1   190.5                 0  ...   0.0        0.0   \n",
       "10          3       0   154.9                 2  ...   0.0        0.0   \n",
       "17          3       1   167.6                 0  ...   0.0        0.0   \n",
       "\n",
       "    diabetes_mellitus  hepatic_failure  immunosuppression  leukemia  lymphoma  \\\n",
       "0                 1.0              0.0                0.0       0.0       0.0   \n",
       "1                 1.0              0.0                0.0       0.0       0.0   \n",
       "5                 1.0              0.0                0.0       0.0       0.0   \n",
       "10                0.0              0.0                1.0       0.0       0.0   \n",
       "17                0.0              0.0                0.0       0.0       0.0   \n",
       "\n",
       "    solid_tumor_with_metastasis  apache_3j_bodysystem  apache_2_bodysystem  \n",
       "0                           0.0                     9                    0  \n",
       "1                           0.0                     8                    6  \n",
       "5                           0.0                     7                    4  \n",
       "10                          0.0                     8                    6  \n",
       "17                          0.0                     8                    6  \n",
       "\n",
       "[5 rows x 83 columns]"
      ]
     },
     "execution_count": 21,
     "metadata": {},
     "output_type": "execute_result"
    }
   ],
   "source": [
    "x.head()"
   ]
  },
  {
   "cell_type": "code",
   "execution_count": 22,
   "id": "81cd2101",
   "metadata": {},
   "outputs": [
    {
     "data": {
      "text/plain": [
       "<bound method NDFrame.head of 0        0\n",
       "1        0\n",
       "5        0\n",
       "10       0\n",
       "17       0\n",
       "        ..\n",
       "91698    0\n",
       "91706    0\n",
       "91708    0\n",
       "91709    0\n",
       "91712    0\n",
       "Name: hospital_death, Length: 56935, dtype: int64>"
      ]
     },
     "execution_count": 22,
     "metadata": {},
     "output_type": "execute_result"
    }
   ],
   "source": [
    "y.head"
   ]
  },
  {
   "cell_type": "code",
   "execution_count": 23,
   "id": "16841279",
   "metadata": {},
   "outputs": [],
   "source": [
    "from sklearn.preprocessing import StandardScaler\n",
    "ss = StandardScaler()\n",
    "ss.fit(x)\n",
    "x = ss.transform(x)\n",
    "#standardizing the data"
   ]
  },
  {
   "cell_type": "code",
   "execution_count": 24,
   "id": "2cd7f37c",
   "metadata": {},
   "outputs": [
    {
     "data": {
      "text/plain": [
       "array([[ 0.01460283, -1.06703713,  0.18876749, ..., -0.15104653,\n",
       "         1.20112479, -0.91433962],\n",
       "       [ 1.28748162, -0.16662997, -0.38334931, ..., -0.15104653,\n",
       "         0.93712068,  1.28772574],\n",
       "       [-0.85800377,  0.2341478 , -0.35242408, ..., -0.15104653,\n",
       "         0.67311657,  0.55370396],\n",
       "       ...,\n",
       "       [ 0.68780111,  0.3299037 , -1.17194275, ...,  6.62047647,\n",
       "         1.20112479, -0.91433962],\n",
       "       [ 0.01367658, -1.37994383,  0.23515534, ..., -0.15104653,\n",
       "         1.20112479, -0.91433962],\n",
       "       [-1.69189313, -0.31824128, -0.02770914, ..., -0.15104653,\n",
       "        -0.91090807, -0.54732873]])"
      ]
     },
     "execution_count": 24,
     "metadata": {},
     "output_type": "execute_result"
    }
   ],
   "source": [
    "x"
   ]
  },
  {
   "cell_type": "code",
   "execution_count": 25,
   "id": "f76f3fbb",
   "metadata": {},
   "outputs": [],
   "source": [
    "x_train,x_test,y_train,y_test = train_test_split(x,y,test_size=0.2,random_state=1)\n",
    "#splitting the data into train and test parts in 80:20 ratio"
   ]
  },
  {
   "cell_type": "code",
   "execution_count": 26,
   "id": "2c40f964",
   "metadata": {},
   "outputs": [
    {
     "name": "stdout",
     "output_type": "stream",
     "text": [
      "1 0.8949679459032229\n",
      "2 0.9169228067094055\n",
      "3 0.9162202511636076\n",
      "4 0.9189426539035742\n",
      "5 0.9192061122332484\n",
      "6 0.9192939316764732\n",
      "7 0.920962501097743\n",
      "8 0.9211381399841925\n",
      "9 0.9221041538596645\n",
      "10 0.9208746816545184\n",
      "11 0.9230701677351365\n",
      "12 0.9215772372003161\n",
      "13 0.9228067094054624\n",
      "14 0.921928514973215\n",
      "15 0.9220163344164398\n",
      "16 0.920962501097743\n",
      "17 0.9218406955299904\n",
      "18 0.9206112233248441\n",
      "19 0.9216650566435409\n"
     ]
    }
   ],
   "source": [
    "from sklearn.metrics import accuracy_score\n",
    "for i in range(1,20):\n",
    "    knn = KNeighborsClassifier(n_neighbors=i, metric='euclidean')\n",
    "    knn.fit(x_train, y_train)\n",
    "    y_pred = knn.predict(x_test)\n",
    "    print(i,accuracy_score(y_test,y_pred))"
   ]
  },
  {
   "cell_type": "code",
   "execution_count": 27,
   "id": "056d1eb7",
   "metadata": {},
   "outputs": [
    {
     "data": {
      "text/plain": [
       "0.8804777377711426"
      ]
     },
     "execution_count": 27,
     "metadata": {},
     "output_type": "execute_result"
    }
   ],
   "source": [
    "from sklearn.tree import DecisionTreeClassifier as dtree\n",
    "ct = dtree(\n",
    "           criterion=\"entropy\",    # Alternative 'gini'\n",
    "           max_depth=None       # Alternative, specify an integer\n",
    "                              # 'None' means full tree till single leaf\n",
    "           )\n",
    "ct.fit(x_train,y_train)\n",
    "y_te = ct.predict(x_test)\n",
    "accuracy_score(y_test,y_te)"
   ]
  },
  {
   "cell_type": "code",
   "execution_count": 28,
   "id": "8d22fe48",
   "metadata": {},
   "outputs": [
    {
     "data": {
      "text/plain": [
       "0.9280758759989461"
      ]
     },
     "execution_count": 28,
     "metadata": {},
     "output_type": "execute_result"
    }
   ],
   "source": [
    "from sklearn.ensemble import RandomForestClassifier\n",
    "clf=RandomForestClassifier(n_estimators=100)\n",
    "clf.fit(x_train,y_train)\n",
    "\n",
    "y_pred1=clf.predict(x_test)\n",
    "accuracy_score(y_test,y_pred1)"
   ]
  },
  {
   "cell_type": "code",
   "execution_count": null,
   "id": "bf545a71",
   "metadata": {},
   "outputs": [],
   "source": [
    "#Here we can se that Random forest classifier has the most accuracy of 92.8% out of the three classifiers used"
   ]
  }
 ],
 "metadata": {
  "kernelspec": {
   "display_name": "Python 3 (ipykernel)",
   "language": "python",
   "name": "python3"
  },
  "language_info": {
   "codemirror_mode": {
    "name": "ipython",
    "version": 3
   },
   "file_extension": ".py",
   "mimetype": "text/x-python",
   "name": "python",
   "nbconvert_exporter": "python",
   "pygments_lexer": "ipython3",
   "version": "3.9.7"
  }
 },
 "nbformat": 4,
 "nbformat_minor": 5
}
